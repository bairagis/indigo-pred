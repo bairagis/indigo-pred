{
  "nbformat": 4,
  "nbformat_minor": 0,
  "metadata": {
    "colab": {
      "private_outputs": true,
      "provenance": [],
      "collapsed_sections": [
        "ILM16xV1PD8m",
        "bqVZBxrvPD8n",
        "yQaldy8SH6Dl",
        "mDgbUHAGgjLW",
        "HhfV-JJviCcP",
        "Y3lxredqlCYt",
        "3RnN4peoiCZX",
        "x71ZqKXriCWQ",
        "7hBIi_osiCS2",
        "JlHwYmJAmNHm",
        "35m5QtbWiB9F",
        "PoPl-ycgm1ru",
        "H0kj-8xxnORC",
        "nA9Y7ga8ng1Z",
        "PBTbrJXOngz2",
        "u3PMJOP6ngxN",
        "dauF4eBmngu3",
        "bKJF3rekwFvQ",
        "MSa1f5Uengrz",
        "GF8Ens_Soomf",
        "0wOQAZs5pc--",
        "K5QZ13OEpz2H",
        "lQ7QKXXCp7Bj",
        "448CDAPjqfQr",
        "xJivPyE8q_2k",
        "azX1PEddq_20",
        "iyKleWeyq_20",
        "8-UX51ofq_21",
        "Of3PJYNbrGff",
        "w8bcvZxarGfg",
        "HZ6txCBBrGfh",
        "jbkhcZqdrGfh",
        "riLp7y9brHca",
        "Uw0GT_uHrHcb",
        "qTEiGUKorHcc",
        "1Qw8mtL3rHcd",
        "xnMZvg2orIPt",
        "mwHQVoIQrIPu",
        "Kwy5hImkrIPu",
        "0sjxqkK0rIPv",
        "y7avNpR9HL5z",
        "Z5yPuW4iHL50",
        "3vIdo55JHL50",
        "IlhlbgNBHL51",
        "oQ-pHCWMHO92",
        "DEMFeE18HO92",
        "MR3eS7xTHO93",
        "JmI1Y4YbHO93",
        "XGShqbS2HSAY",
        "B4XxyvTzHSAZ",
        "Mal1wQlpHSAZ",
        "BgP_e3WlHSAZ",
        "I3aNiIh9fKqZ",
        "hTF1e9PwfKqa",
        "1xrBLU6IfKqa",
        "yiLHMWFSfKqb",
        "NC_X3p0fY2L0",
        "UV0SzAkaZNRQ",
        "YPEH6qLeZNRQ",
        "q29F0dvdveiT",
        "EXh0U9oCveiU",
        "22aHeOlLveiV",
        "g-ATYxFrGrvw",
        "Yfr_Vlr8HBkt",
        "8yEUt7NnHlrM",
        "tEA2Xm5dHt1r",
        "I79__PHVH19G",
        "Ou-I18pAyIpj",
        "fF3858GYyt-u",
        "jLrtcv83OEmf",
        "5djnGilGOEmg",
        "DADo_qtwOEmg",
        "0VL2QIwzOEmh",
        "69qjvWOxOEmh",
        "FqZJ_xAgOH3o",
        "pE65w-N1OH3p",
        "OISwWHvhOH3p",
        "rheC10M4OH3q",
        "-CtoKDX7OH3q",
        "yLjJCtPM0KBk",
        "xiyOF9F70UgQ",
        "7wuGOrhz0itI",
        "id1riN9m0vUs",
        "578E2V7j08f6",
        "89xtkJwZ18nB",
        "67NQN5KX2AMe",
        "Iwf50b-R2tYG",
        "GMQiZwjn3iu7",
        "WVIkgGqN3qsr",
        "XkPnILGE3zoT",
        "Hlsf0x5436Go",
        "mT9DMSJo4nBL",
        "c49ITxTc407N",
        "OeJFEK0N496M",
        "9ExmJH0g5HBk",
        "cJNqERVU536h",
        "k5UmGsbsOxih",
        "T0VqWOYE6DLQ",
        "qBMux9mC6MCf",
        "-oLEiFgy-5Pf",
        "C74aWNz2AliB",
        "2DejudWSA-a0",
        "pEMng2IbBLp7",
        "TNVZ9zx19K6k",
        "nqoHp30x9hH9",
        "rMDnDkt2B6du",
        "yiiVWRdJDDil",
        "1UUpS68QDMuG",
        "kexQrXU-DjzY",
        "T5CmagL3EC8N",
        "BhH2vgX9EjGr",
        "qjKvONjwE8ra",
        "TIqpNgepFxVj",
        "VfCC591jGiD4",
        "peAK6Cc_HQeo",
        "khncImPpHcol",
        "wTe8K5rdYGV1",
        "yyzM232tatvC",
        "OMC09DFCbrEm",
        "dJ2tPlVmpsJ0",
        "JWYfwnehpsJ1",
        "-jK_YjpMpsJ2",
        "HAih1iBOpsJ2",
        "zVGeBEFhpsJ2",
        "Fze-IPXLpx6K",
        "7AN1z2sKpx6M",
        "9PIHJqyupx6M",
        "_-qAgymDpx6N",
        "Z-hykwinpx6N",
        "h_CCil-SKHpo",
        "cBFFvTBNJzUa",
        "HvGl1hHyA_VK",
        "gCX9965dhzqZ",
        "gIfDvo9L0UH2"
      ],
      "include_colab_link": true
    },
    "kernelspec": {
      "name": "python3",
      "display_name": "Python 3"
    },
    "language_info": {
      "name": "python"
    }
  },
  "cells": [
    {
      "cell_type": "markdown",
      "metadata": {
        "id": "view-in-github",
        "colab_type": "text"
      },
      "source": [
        "<a href=\"https://colab.research.google.com/github/bairagis/indigo-pred/blob/main/IndiGo_Airline_Passenger_Referral_Prediction.ipynb\" target=\"_parent\"><img src=\"https://colab.research.google.com/assets/colab-badge.svg\" alt=\"Open In Colab\"/></a>"
      ]
    },
    {
      "cell_type": "markdown",
      "source": [
        "# **Project Name**    -  **Indigo Passenger Referral Prediction**\n",
        "\n"
      ],
      "metadata": {
        "id": "ILM16xV1PD8m"
      }
    },
    {
      "cell_type": "markdown",
      "source": [
        "##### **Project Type**    - Classification\n",
        "##### **Contribution**    - Individual\n"
      ],
      "metadata": {
        "id": "bqVZBxrvPD8n"
      }
    },
    {
      "cell_type": "markdown",
      "source": [
        "# **Problem Statement**\n"
      ],
      "metadata": {
        "id": "yQaldy8SH6Dl"
      }
    },
    {
      "cell_type": "markdown",
      "source": [
        "**BUSINESS PROBLEM OVERVIEW**\n",
        "\n",
        "Business Context\n",
        "\n",
        "In the dynamic and highly competitive airline industry, companies like IndiGo are continuously striving to enhance customer experience and build lasting loyalty. A critical component of this effort is understanding and predicting passenger referrals, which can significantly influence the airline's market position and reputation. The analysis of passenger reviews from 2006 to 2019 offers IndiGo a comprehensive view into the various facets of the travel experience as perceived by their customers. These reviews provide invaluable feedback on service quality, including comfort, service, and overall value, and play a key role in shaping potential customers' perceptions.\n",
        "\n",
        "By leveraging this extensive dataset, IndiGo aims to develop a predictive model to identify which passengers are most likely to recommend the airline to others. This insight enables IndiGo to:\n",
        "\n",
        "1. Enhance Customer Experience:\n",
        "\n",
        "By pinpointing the factors that most influence positive referrals, IndiGo can focus on improving these aspects of their service, ensuring that they meet or exceed customer expectations.\n",
        "\n",
        "2. Targeted Improvements:\n",
        "\n",
        "The ability to predict referrals allows IndiGo to address specific areas needing improvement, whether it be in-flight comfort, customer service, or overall value for money.\n",
        "\n",
        "3. Strategic Marketing:\n",
        "\n",
        "Understanding referral patterns can help IndiGo tailor their marketing strategies to leverage positive word-of-mouth and foster a strong brand reputation.\n",
        "\n",
        "4. Competitive Edge:\n",
        "\n",
        "By continuously refining their services based on customer feedback, IndiGo can differentiate itself from competitors and strengthen its position in the market."
      ],
      "metadata": {
        "id": "jivUA-ONOwse"
      }
    },
    {
      "cell_type": "markdown",
      "source": [
        "## ***1. Analyse the Indigo Data Set***"
      ],
      "metadata": {
        "id": "HhfV-JJviCcP"
      }
    },
    {
      "cell_type": "markdown",
      "source": [
        "### Import Libraries"
      ],
      "metadata": {
        "id": "Y3lxredqlCYt"
      }
    },
    {
      "cell_type": "code",
      "source": [
        "# Import Libraries\n",
        "import numpy as np\n",
        "import pandas as pd\n",
        "from numpy import math\n",
        "from numpy import loadtxt\n",
        "import seaborn as sns\n",
        "import matplotlib.pyplot as plt\n",
        "%matplotlib inline\n",
        "from matplotlib import rcParams\n",
        "\n",
        "\n",
        "import numpy as np\n",
        "import seaborn as sns\n",
        "from scipy.stats import *\n",
        "import math\n",
        "\n",
        "from statsmodels.stats.outliers_influence import variance_inflation_factor\n",
        "from sklearn.preprocessing import StandardScaler\n",
        "from sklearn.model_selection import train_test_split\n",
        "from imblearn.over_sampling import SMOTE\n",
        "from sklearn.linear_model import LogisticRegression\n",
        "from sklearn.ensemble import RandomForestClassifier\n",
        "from sklearn.metrics import accuracy_score, confusion_matrix\n",
        "from sklearn import metrics\n",
        "from sklearn.metrics import roc_curve\n",
        "from sklearn.model_selection import GridSearchCV\n",
        "from sklearn.model_selection import RepeatedStratifiedKFold\n",
        "from xgboost import XGBClassifier\n",
        "from xgboost import XGBRFClassifier\n",
        "from sklearn.tree import export_graphviz\n",
        "\n",
        "!pip install shap==0.40.0\n",
        "import shap\n",
        "import graphviz\n",
        "sns.set_style('darkgrid')\n",
        "\n",
        "import warnings\n",
        "warnings.filterwarnings('ignore')"
      ],
      "metadata": {
        "id": "M8Vqi-pPk-HR",
        "collapsed": true
      },
      "execution_count": null,
      "outputs": []
    },
    {
      "cell_type": "markdown",
      "source": [
        "### Dataset Loading"
      ],
      "metadata": {
        "id": "3RnN4peoiCZX"
      }
    },
    {
      "cell_type": "code",
      "source": [
        "# Importing the dataset as panda data frane\n",
        "# load from xlsx\n",
        "dataset = pd.read_excel('data_airline_reviews.xlsx')\n",
        "\n"
      ],
      "metadata": {
        "id": "CEhiayUv1809"
      },
      "execution_count": null,
      "outputs": []
    },
    {
      "cell_type": "markdown",
      "source": [
        "### Dataset First View"
      ],
      "metadata": {
        "id": "x71ZqKXriCWQ"
      }
    },
    {
      "cell_type": "code",
      "source": [
        "# Dataset First\n",
        "dataset.head()"
      ],
      "metadata": {
        "id": "LWNFOSvLl09H"
      },
      "execution_count": null,
      "outputs": []
    },
    {
      "cell_type": "markdown",
      "source": [
        "### Dataset Rows & Columns count"
      ],
      "metadata": {
        "id": "7hBIi_osiCS2"
      }
    },
    {
      "cell_type": "code",
      "source": [
        "# Dataset Rows & Columns\n",
        "dataset.shape"
      ],
      "metadata": {
        "id": "Kllu7SJgmLij"
      },
      "execution_count": null,
      "outputs": []
    },
    {
      "cell_type": "markdown",
      "source": [
        "### Dataset Information"
      ],
      "metadata": {
        "id": "JlHwYmJAmNHm"
      }
    },
    {
      "cell_type": "code",
      "source": [
        "# Dataset Info\n",
        "dataset.info()"
      ],
      "metadata": {
        "id": "e9hRXRi6meOf"
      },
      "execution_count": null,
      "outputs": []
    },
    {
      "cell_type": "markdown",
      "source": [
        "#### Duplicate Values"
      ],
      "metadata": {
        "id": "35m5QtbWiB9F"
      }
    },
    {
      "cell_type": "code",
      "source": [
        "# Dataset Duplicate Value Count\n",
        "len(dataset[dataset.duplicated()])"
      ],
      "metadata": {
        "id": "1sLdpKYkmox0"
      },
      "execution_count": null,
      "outputs": []
    },
    {
      "cell_type": "markdown",
      "source": [
        "#### Missing Values/Null Values"
      ],
      "metadata": {
        "id": "PoPl-ycgm1ru"
      }
    },
    {
      "cell_type": "code",
      "source": [
        "# Missing Values/Null Values Count\n",
        "print(dataset.isnull().sum())"
      ],
      "metadata": {
        "id": "GgHWkxvamxVg"
      },
      "execution_count": null,
      "outputs": []
    },
    {
      "cell_type": "markdown",
      "source": [
        "## ***2. Understanding Your Variables***"
      ],
      "metadata": {
        "id": "nA9Y7ga8ng1Z"
      }
    },
    {
      "cell_type": "code",
      "source": [
        "# Dataset Columns\n",
        "dataset.columns"
      ],
      "metadata": {
        "id": "n87BaXA_42-R"
      },
      "execution_count": null,
      "outputs": []
    },
    {
      "cell_type": "code",
      "source": [
        "# Dataset Describe\n",
        "dataset.describe(include='all')"
      ],
      "metadata": {
        "id": "DnOaZdaE5Q5t"
      },
      "execution_count": null,
      "outputs": []
    },
    {
      "cell_type": "markdown",
      "source": [
        "### Variables Description"
      ],
      "metadata": {
        "id": "PBTbrJXOngz2"
      }
    },
    {
      "cell_type": "markdown",
      "source": [
        "![image.png](data:image/png;base64,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)"
      ],
      "metadata": {
        "id": "cNnSThcVGglN"
      }
    },
    {
      "cell_type": "markdown",
      "source": [
        "### Check Unique Values for each variable."
      ],
      "metadata": {
        "id": "u3PMJOP6ngxN"
      }
    },
    {
      "cell_type": "code",
      "source": [
        "# Check Unique Values for each variable.\n",
        "for i in dataset.columns.tolist():\n",
        "  print(\"No. of unique values in \",i,\"is\",dataset[i].nunique(),\".\")"
      ],
      "metadata": {
        "id": "zms12Yq5n-jE"
      },
      "execution_count": null,
      "outputs": []
    },
    {
      "cell_type": "markdown",
      "source": [
        "## 3. ***Data Wrangling***"
      ],
      "metadata": {
        "id": "dauF4eBmngu3"
      }
    },
    {
      "cell_type": "markdown",
      "source": [
        "### Data Wrangling Code"
      ],
      "metadata": {
        "id": "bKJF3rekwFvQ"
      }
    },
    {
      "cell_type": "code",
      "source": [
        "# remove rows with Null values\n",
        "dataset.dropna(inplace=True)\n",
        "dataset.info()"
      ],
      "metadata": {
        "id": "1YQ-a8hiFhi8"
      },
      "execution_count": null,
      "outputs": []
    },
    {
      "cell_type": "code",
      "source": [
        "# remove duplicates\n",
        "dataset.drop_duplicates(inplace=True)\n",
        "dataset.info()"
      ],
      "metadata": {
        "id": "h1hpNNdcFpdZ"
      },
      "execution_count": null,
      "outputs": []
    },
    {
      "cell_type": "code",
      "source": [
        "# Describe the stat\n",
        "\n",
        "dataset.describe()"
      ],
      "metadata": {
        "id": "wk-9a2fpoLcV"
      },
      "execution_count": null,
      "outputs": []
    },
    {
      "cell_type": "code",
      "source": [
        "dataset.head()"
      ],
      "metadata": {
        "id": "7sqG_Z3DGUgZ"
      },
      "execution_count": null,
      "outputs": []
    },
    {
      "cell_type": "code",
      "source": [
        "# What are the categorical columns\n",
        "categorical_columns = dataset.select_dtypes(include=['object']).columns.tolist()\n",
        "print(categorical_columns)"
      ],
      "metadata": {
        "id": "PaPWuHPHbnEw"
      },
      "execution_count": null,
      "outputs": []
    },
    {
      "cell_type": "code",
      "source": [],
      "metadata": {
        "id": "Cxf4n62JIpBT"
      },
      "execution_count": null,
      "outputs": []
    },
    {
      "cell_type": "code",
      "source": [
        "# Churn Counts grouby Traveller Type wise\n",
        "pd.DataFrame(dataset.groupby('traveller_type')['recommended'].value_counts(  ).reset_index(name=\"Count\"))"
      ],
      "metadata": {
        "id": "kvLVN_t-bpSF"
      },
      "execution_count": null,
      "outputs": []
    },
    {
      "cell_type": "code",
      "source": [
        "# Convert rcommended column to Bool. If yes then 1 , if no then 0\n",
        "dataset['recommended'] = np.where(dataset['recommended'] == 'yes', 1, 0)\n",
        "dataset.info()"
      ],
      "metadata": {
        "id": "F8VG8gCHJpjI"
      },
      "execution_count": null,
      "outputs": []
    },
    {
      "cell_type": "code",
      "source": [
        "# Plot cor-realtion among seat_comfort , cabin_service, food_bev, entertainment, ground_service, value_for_money and recommended\n",
        "# Select the desired columns.\n",
        "cols = ['overall','seat_comfort', 'cabin_service', 'food_bev', 'entertainment', 'ground_service', 'value_for_money', 'recommended']\n",
        "df = dataset[cols]\n",
        "\n",
        "# Calculate the correlation matrix.\n",
        "corr = df.corr()\n",
        "\n",
        "# Plot the heatmap.\n",
        "plt.figure(figsize=(10, 8))\n",
        "sns.heatmap(corr, annot=True, cmap='coolwarm')\n",
        "plt.title('Correlation Matrix')\n",
        "plt.show()\n",
        "\n"
      ],
      "metadata": {
        "id": "7-ofZb2GJ9_S"
      },
      "execution_count": null,
      "outputs": []
    },
    {
      "cell_type": "code",
      "source": [
        "new_dataset= dataset.copy(deep=True)\n",
        "new_dataset.reset_index(drop=True, inplace=True)\n",
        "new_dataset.info()"
      ],
      "metadata": {
        "id": "cnrXo-A4wkWv"
      },
      "execution_count": null,
      "outputs": []
    },
    {
      "cell_type": "code",
      "source": [
        "# Convert categorical traveller_type and cabin data into One-Hot encoding\n",
        "# Import the OneHotEncoder.\n",
        "from sklearn.preprocessing import OneHotEncoder\n",
        "\n",
        "# Create the encoder.\n",
        "encoder = OneHotEncoder(handle_unknown='ignore')\n",
        "\n",
        "# Fit the encoder on the categorical columns and transform them.\n",
        "encoded_data = encoder.fit_transform(dataset[['traveller_type', 'cabin']]).toarray()\n",
        "\n",
        "# Get the feature names.\n",
        "feature_names = encoder.get_feature_names_out(['traveller_type', 'cabin'])\n",
        "# add feature_names to dataframe\n",
        "final_dataset = pd.concat([new_dataset, pd.DataFrame(encoded_data, columns=feature_names)], axis=1)\n",
        "final_dataset.info()\n"
      ],
      "metadata": {
        "id": "0FUjfwZqOvoq"
      },
      "execution_count": null,
      "outputs": []
    },
    {
      "cell_type": "markdown",
      "source": [
        "## ***7. ML Model Implementation***"
      ],
      "metadata": {
        "id": "VfCC591jGiD4"
      }
    },
    {
      "cell_type": "code",
      "source": [
        "# Generate Tarin and test data\n",
        "X = final_dataset.drop(['recommended','airline','author','review_date','customer_review','aircraft','traveller_type','cabin','route','date_flown'], axis=1)\n",
        "X.info()\n"
      ],
      "metadata": {
        "id": "bxZzaJLdd6BM"
      },
      "execution_count": null,
      "outputs": []
    },
    {
      "cell_type": "code",
      "source": [
        "Y= final_dataset['recommended'].astype('int')\n",
        "Y.info()"
      ],
      "metadata": {
        "id": "TVUvNCyLfVVU"
      },
      "execution_count": null,
      "outputs": []
    },
    {
      "cell_type": "code",
      "source": [
        "from sklearn.model_selection import train_test_split\n",
        "X_train, X_test, y_train, y_test = train_test_split(X, Y, test_size=0.2, random_state=42)"
      ],
      "metadata": {
        "id": "d-NxzC2HivFs"
      },
      "execution_count": null,
      "outputs": []
    },
    {
      "cell_type": "markdown",
      "source": [
        "### ML Model - 1 - **Implementing Logistic Regression**"
      ],
      "metadata": {
        "id": "peAK6Cc_HQeo"
      }
    },
    {
      "cell_type": "code",
      "metadata": {
        "id": "xbsRRWRfEQtK"
      },
      "source": [
        "# ML Model - 1 Implementation\n",
        "clf = LogisticRegression(fit_intercept=True, max_iter=10000)\n",
        "# Fit the Algorithm\n",
        "clf.fit(X_train, y_train)"
      ],
      "execution_count": null,
      "outputs": []
    },
    {
      "cell_type": "code",
      "metadata": {
        "id": "hF36F8oQEVIp"
      },
      "source": [
        "# Checking the coefficients\n",
        "clf.coef_"
      ],
      "execution_count": null,
      "outputs": []
    },
    {
      "cell_type": "code",
      "metadata": {
        "id": "uUsxKejfytOD"
      },
      "source": [
        "# Checking the intercept value\n",
        "clf.intercept_"
      ],
      "execution_count": null,
      "outputs": []
    },
    {
      "cell_type": "code",
      "metadata": {
        "id": "H_5ATxY7EbXx"
      },
      "source": [
        "# Predict on the model\n",
        "# Get the predicted probabilities\n",
        "train_preds = clf.predict_proba(X_train)\n",
        "test_preds = clf.predict_proba(X_test)"
      ],
      "execution_count": null,
      "outputs": []
    },
    {
      "cell_type": "code",
      "metadata": {
        "id": "biUzo8zBExKg"
      },
      "source": [
        "# Get the predicted classes\n",
        "train_class_preds = clf.predict(X_train)\n",
        "test_class_preds = clf.predict(X_test)"
      ],
      "execution_count": null,
      "outputs": []
    },
    {
      "cell_type": "code",
      "metadata": {
        "id": "0r2loKjLE9KB"
      },
      "source": [
        "# Get the accuracy scores\n",
        "train_accuracy = accuracy_score(train_class_preds,y_train)\n",
        "test_accuracy = accuracy_score(test_class_preds,y_test)\n",
        "\n",
        "print(\"The accuracy on train data is \", train_accuracy)\n",
        "print(\"The accuracy on test data is \", test_accuracy)"
      ],
      "execution_count": null,
      "outputs": []
    },
    {
      "cell_type": "markdown",
      "source": [
        "#### 1. Explain the ML Model used and it's performance using Evaluation metric Score Chart."
      ],
      "metadata": {
        "id": "khncImPpHcol"
      }
    },
    {
      "cell_type": "code",
      "metadata": {
        "id": "_dUfuIPtFBi7"
      },
      "source": [
        "# Visualizing evaluation Metric Score chart\n",
        "# Get the confusion matrix for both train and test\n",
        "\n",
        "labels = ['Recommended', 'Not-Recommended']\n",
        "cm = confusion_matrix(y_train, train_class_preds)\n",
        "print(cm)\n",
        "\n",
        "ax= plt.subplot()\n",
        "sns.heatmap(cm, annot=True, ax = ax) #annot=True to annotate cells\n",
        "\n",
        "# labels, title and ticks\n",
        "ax.set_xlabel('Predicted labels')\n",
        "ax.set_ylabel('True labels')\n",
        "ax.set_title('Confusion Matrix')\n",
        "ax.xaxis.set_ticklabels(labels)\n",
        "ax.yaxis.set_ticklabels(labels)"
      ],
      "execution_count": null,
      "outputs": []
    },
    {
      "cell_type": "code",
      "metadata": {
        "id": "J_O81exKFNUx"
      },
      "source": [
        "# Get the confusion matrix for both train and test\n",
        "\n",
        "labels = ['Recommended', 'Not-Recommended']\n",
        "cm = confusion_matrix(y_test, test_class_preds)\n",
        "print(cm)\n",
        "\n",
        "ax= plt.subplot()\n",
        "sns.heatmap(cm, annot=True, ax = ax); #annot=True to annotate cells\n",
        "\n",
        "# labels, title and ticks\n",
        "ax.set_xlabel('Predicted labels')\n",
        "ax.set_ylabel('True labels')\n",
        "ax.set_title('Confusion Matrix')\n",
        "ax.xaxis.set_ticklabels(labels)\n",
        "ax.yaxis.set_ticklabels(labels)"
      ],
      "execution_count": null,
      "outputs": []
    },
    {
      "cell_type": "code",
      "metadata": {
        "id": "LuG-5ThU-9w5"
      },
      "source": [
        "print(metrics.classification_report(train_class_preds, y_train))\n",
        "print(\" \")\n",
        "\n",
        "print(\"roc_auc_score\")\n",
        "print(metrics.roc_auc_score(y_train, train_class_preds))"
      ],
      "execution_count": null,
      "outputs": []
    },
    {
      "cell_type": "code",
      "metadata": {
        "id": "f1py3kXS_XDw"
      },
      "source": [
        "print(metrics.classification_report(test_class_preds, y_test))\n",
        "print(\" \")\n",
        "\n",
        "print(\"roc_auc_score\")\n",
        "print(metrics.roc_auc_score(y_test, test_class_preds))"
      ],
      "execution_count": null,
      "outputs": []
    },
    {
      "cell_type": "markdown",
      "source": [
        "I used Logistic regression algorithm to create the model. As I got not so good result.\n",
        "\n",
        "\n",
        "Next tryting to improving the score by using hyperparameter tuning technique.\n",
        "\n"
      ],
      "metadata": {
        "id": "221W-59JMa_Y"
      }
    },
    {
      "cell_type": "markdown",
      "source": [
        "#### 2. Cross- Validation & Hyperparameter Tuning"
      ],
      "metadata": {
        "id": "wTe8K5rdYGV1"
      }
    },
    {
      "cell_type": "code",
      "source": [
        "# ML Model - 1 Implementation with hyperparameter optimization techniques (i.e., GridSearch CV, RandomSearch CV, Bayesian Optimization etc.)\n",
        "model = LogisticRegression(max_iter=10000)\n",
        "solvers = ['lbfgs']\n",
        "penalty = ['10','l2','14','16','20','18']\n",
        "c_values = [1000,100, 10, 1.0, 0.1, 0.01,0.001]\n",
        "# define grid search\n",
        "grid = dict(solver=solvers,penalty=penalty,C=c_values)\n",
        "cv = RepeatedStratifiedKFold(n_splits=10, n_repeats=3, random_state=1)\n",
        "grid_search = GridSearchCV(estimator=model, param_grid=grid, n_jobs=-1, cv=cv, scoring='f1',error_score=0)\n",
        "\n",
        "# Fit the Algorithm\n",
        "grid_result=grid_search.fit(X_train, y_train)\n",
        "\n",
        "print(\"Best: %f using %s\" % (grid_result.best_score_, grid_result.best_params_))\n",
        "\n",
        "\n",
        "# Predict on the model\n",
        "# Get the predicted classes\n",
        "train_class_preds = grid_result.predict(X_train)\n",
        "test_class_preds = grid_result.predict(X_test)"
      ],
      "metadata": {
        "id": "nMfZKhyPc4_6"
      },
      "execution_count": null,
      "outputs": []
    },
    {
      "cell_type": "code",
      "source": [
        "print(metrics.classification_report(train_class_preds, y_train))\n",
        "print(\" \")\n",
        "\n",
        "print(\"roc_auc_score\")\n",
        "print(metrics.roc_auc_score(y_train, train_class_preds))"
      ],
      "metadata": {
        "id": "PT5bv9VToFzq"
      },
      "execution_count": null,
      "outputs": []
    },
    {
      "cell_type": "code",
      "source": [
        "print(metrics.classification_report(test_class_preds, y_test))\n",
        "print(\" \")\n",
        "\n",
        "print(\"roc_auc_score\")\n",
        "print(metrics.roc_auc_score(y_test, test_class_preds))"
      ],
      "metadata": {
        "id": "pZCznRPuh4yL"
      },
      "execution_count": null,
      "outputs": []
    },
    {
      "cell_type": "markdown",
      "source": [
        "##### Which hyperparameter optimization technique have you used and why?"
      ],
      "metadata": {
        "id": "yyzM232tatvC"
      }
    },
    {
      "cell_type": "markdown",
      "source": [
        "GridSearchCV which uses the Grid Search technique for finding the optimal hyperparameters to increase the model performance.\n",
        "\n",
        "our goal should be to find the best hyperparameters values to get the perfect prediction results from our model.  But the question arises, how to find these best sets of hyperparameters? One can try the Manual Search method, by using the hit and trial process and can find the best hyperparameters which would take huge time to build a single model.\n",
        "\n",
        "For this reason, methods like Random Search, GridSearch were introduced.\n",
        "Grid Search uses a different combination of all the specified hyperparameters and their values and calculates the performance for each combination and selects the best value for the hyperparameters. This makes the processing time-consuming and expensive based on the number of hyperparameters involved.\n",
        "\n",
        "In GridSearchCV, along with Grid Search, cross-validation is also performed. Cross-Validation is used while training the model.\n",
        "\n",
        "That's why I have used GridsearCV method for hyperparameter optimization."
      ],
      "metadata": {
        "id": "IQS0dR0ta8a0"
      }
    },
    {
      "cell_type": "markdown",
      "source": [
        "### ML Model - 2 - **Implementing XgBoost Classifier**"
      ],
      "metadata": {
        "id": "Fze-IPXLpx6K"
      }
    },
    {
      "cell_type": "code",
      "source": [
        "# ML Model - 3 Implementation\n",
        "# Create an instance of the RandomForestClassifier\n",
        "xg_model = XGBClassifier()\n",
        "\n",
        "# Fit the Algorithm\n",
        "xg_models=xg_model.fit(X_train,y_train)\n",
        "\n",
        "# Predict on the model\n",
        "# Making predictions on train and test data\n",
        "\n",
        "train_class_preds = xg_models.predict(X_train)\n",
        "test_class_preds = xg_models.predict(X_test)"
      ],
      "metadata": {
        "id": "FFrSXAtrpx6M"
      },
      "execution_count": null,
      "outputs": []
    },
    {
      "cell_type": "markdown",
      "source": [
        "#### 1. Explain the ML Model used and it's performance using Evaluation metric Score Chart."
      ],
      "metadata": {
        "id": "7AN1z2sKpx6M"
      }
    },
    {
      "cell_type": "code",
      "metadata": {
        "id": "SLMHFSXSy48N"
      },
      "source": [
        "# Visualizing evaluation Metric Score chart\n",
        "# Visualizing evaluation Metric Score chart# Get the confusion matrix for both train and test\n",
        "\n",
        "labels = ['Recommended', 'Not-Recommended']\n",
        "cm = confusion_matrix(y_train, train_class_preds)\n",
        "print(cm)\n",
        "\n",
        "ax= plt.subplot()\n",
        "sns.heatmap(cm, annot=True, ax = ax) #annot=True to annotate cells\n",
        "\n",
        "# labels, title and ticks\n",
        "ax.set_xlabel('Predicted labels')\n",
        "ax.set_ylabel('True labels')\n",
        "ax.set_title('Confusion Matrix')\n",
        "ax.xaxis.set_ticklabels(labels)\n",
        "ax.yaxis.set_ticklabels(labels)"
      ],
      "execution_count": null,
      "outputs": []
    },
    {
      "cell_type": "code",
      "source": [
        "# Get the confusion matrix for both train and test\n",
        "\n",
        "labels = ['Recommended', 'Non-Recommended']\n",
        "cm = confusion_matrix(y_test, test_class_preds)\n",
        "print(cm)\n",
        "\n",
        "ax= plt.subplot()\n",
        "sns.heatmap(cm, annot=True, ax = ax) #annot=True to annotate cells\n",
        "\n",
        "# labels, title and ticks\n",
        "ax.set_xlabel('Predicted labels')\n",
        "ax.set_ylabel('True labels')\n",
        "ax.set_title('Confusion Matrix')\n",
        "ax.xaxis.set_ticklabels(labels)\n",
        "ax.yaxis.set_ticklabels(labels)"
      ],
      "metadata": {
        "id": "YDZwdmNqy48P"
      },
      "execution_count": null,
      "outputs": []
    },
    {
      "cell_type": "code",
      "source": [
        "print(metrics.classification_report(train_class_preds, y_train))\n",
        "print(\" \")\n",
        "\n",
        "print(\"roc_auc_score\")\n",
        "print(metrics.roc_auc_score(y_train, train_class_preds))"
      ],
      "metadata": {
        "id": "JAlBgPjdy48O"
      },
      "execution_count": null,
      "outputs": []
    },
    {
      "cell_type": "code",
      "metadata": {
        "id": "f4yEhj5ay48P"
      },
      "source": [
        "print(metrics.classification_report(test_class_preds, y_test))\n",
        "print(\" \")\n",
        "\n",
        "print(\"roc_auc_score\")\n",
        "print(metrics.roc_auc_score(y_test, test_class_preds))"
      ],
      "execution_count": null,
      "outputs": []
    },
    {
      "cell_type": "markdown",
      "source": [
        "Then, I used XGBoost algorithm to create the model. As I got there  good result.\n",
        "\n",
        "\n",
        "Next tryting to improving the score by using hyperparameter tuning technique."
      ],
      "metadata": {
        "id": "ctnr9FepURk1"
      }
    },
    {
      "cell_type": "code",
      "metadata": {
        "id": "evtxQtoczOK4"
      },
      "source": [
        "importances = xg_model.feature_importances_\n",
        "\n",
        "importance_dict = {'Feature' : list(X_train.columns),\n",
        "                   'Feature Importance' : importances}\n",
        "\n",
        "importance_df = pd.DataFrame(importance_dict)\n",
        "importance_df['Feature Importance'] = round(importance_df['Feature Importance'],2)"
      ],
      "execution_count": null,
      "outputs": []
    },
    {
      "cell_type": "code",
      "metadata": {
        "id": "YJoQ_0sUzOK5"
      },
      "source": [
        "importance_df.sort_values(by=['Feature Importance'],ascending=False)"
      ],
      "execution_count": null,
      "outputs": []
    },
    {
      "cell_type": "code",
      "metadata": {
        "id": "TaxEFDeUzOK5"
      },
      "source": [
        "features = X_train.columns\n",
        "importances = xg_model.feature_importances_\n",
        "indices = np.argsort(importances)"
      ],
      "execution_count": null,
      "outputs": []
    },
    {
      "cell_type": "code",
      "metadata": {
        "id": "UvYA_tJ3zOK6"
      },
      "source": [
        "plt.title('Feature Importance')\n",
        "plt.barh(range(len(indices)), importances[indices], color='red', align='center')\n",
        "plt.yticks(range(len(indices)), [features[i] for i in indices])\n",
        "plt.xlabel('Relative Importance')\n",
        "\n",
        "plt.show()"
      ],
      "execution_count": null,
      "outputs": []
    },
    {
      "cell_type": "markdown",
      "source": [
        "#### 2. Cross- Validation & Hyperparameter Tuning"
      ],
      "metadata": {
        "id": "9PIHJqyupx6M"
      }
    },
    {
      "cell_type": "code",
      "source": [
        "# ML Model - 3 Implementation with hyperparameter optimization techniques (i.e., GridSearch CV, RandomSearch CV, Bayesian Optimization etc.)\n",
        "# Number of trees\n",
        "n_estimators = [50,80,100]\n",
        "\n",
        "# Maximum depth of trees\n",
        "max_depth = [4,6,8]\n",
        "\n",
        "# Minimum number of samples required to split a node\n",
        "min_samples_split = [50,100,150]\n",
        "\n",
        "# Minimum number of samples required at each leaf node\n",
        "min_samples_leaf = [40,50]\n",
        "\n",
        "# HYperparameter Grid\n",
        "param_dict = {'n_estimators' : n_estimators,\n",
        "              'max_depth' : max_depth,\n",
        "              'min_samples_split' : min_samples_split,\n",
        "              'min_samples_leaf' : min_samples_leaf}\n",
        "\n",
        "# Create an instance of the RandomForestClassifier\n",
        "xg_model = XGBClassifier()\n",
        "\n",
        "# Fit the Algorithm\n",
        "# Grid search\n",
        "xg_grid = GridSearchCV(estimator=xg_model,\n",
        "                       param_grid = param_dict,\n",
        "                       cv = 5, verbose=2, scoring='roc_auc')\n",
        "\n",
        "xg_grid1=xg_grid.fit(X_train,y_train)\n",
        "# Predict on the model\n",
        "# Making predictions on train and test data\n",
        "\n",
        "train_class_preds = xg_grid1.predict(X_train)\n",
        "test_class_preds = xg_grid1.predict(X_test)"
      ],
      "metadata": {
        "id": "eSVXuaSKpx6M",
        "collapsed": true
      },
      "execution_count": null,
      "outputs": []
    },
    {
      "cell_type": "code",
      "source": [
        "print(\"Best: %f using %s\" % (xg_grid.best_score_, xg_grid.best_params_))"
      ],
      "metadata": {
        "id": "70UCwE6KzskE"
      },
      "execution_count": null,
      "outputs": []
    },
    {
      "cell_type": "code",
      "metadata": {
        "id": "wHazRuY_0RRK"
      },
      "source": [
        "# Visualizing evaluation Metric Score chart\n",
        "# Visualizing evaluation Metric Score chart# Get the confusion matrix for both train and test\n",
        "\n",
        "labels = ['Recommended', 'Not-recommended']\n",
        "cm = confusion_matrix(y_train, train_class_preds)\n",
        "print(cm)\n",
        "\n",
        "ax= plt.subplot()\n",
        "sns.heatmap(cm, annot=True, ax = ax) #annot=True to annotate cells\n",
        "\n",
        "# labels, title and ticks\n",
        "ax.set_xlabel('Predicted labels')\n",
        "ax.set_ylabel('True labels')\n",
        "ax.set_title('Confusion Matrix')\n",
        "ax.xaxis.set_ticklabels(labels)\n",
        "ax.yaxis.set_ticklabels(labels)"
      ],
      "execution_count": null,
      "outputs": []
    },
    {
      "cell_type": "code",
      "source": [
        "# Get the confusion matrix for both train and test\n",
        "\n",
        "labels = ['Recommended', 'Non-recommended']\n",
        "cm = confusion_matrix(y_test, test_class_preds)\n",
        "print(cm)\n",
        "\n",
        "ax= plt.subplot()\n",
        "sns.heatmap(cm, annot=True, ax = ax) #annot=True to annotate cells\n",
        "\n",
        "# labels, title and ticks\n",
        "ax.set_xlabel('Predicted labels')\n",
        "ax.set_ylabel('True labels')\n",
        "ax.set_title('Confusion Matrix')\n",
        "ax.xaxis.set_ticklabels(labels)\n",
        "ax.yaxis.set_ticklabels(labels)"
      ],
      "metadata": {
        "id": "t09GuUml0RRK"
      },
      "execution_count": null,
      "outputs": []
    },
    {
      "cell_type": "code",
      "source": [
        "print(metrics.classification_report(train_class_preds, y_train))\n",
        "print(\" \")\n",
        "\n",
        "print(\"roc_auc_score\")\n",
        "print(metrics.roc_auc_score(y_train, train_class_preds))"
      ],
      "metadata": {
        "id": "jbfBpu_y0RRK"
      },
      "execution_count": null,
      "outputs": []
    },
    {
      "cell_type": "code",
      "metadata": {
        "id": "Hglw0pWL0RRL"
      },
      "source": [
        "print(metrics.classification_report(test_class_preds, y_test))\n",
        "print(\" \")\n",
        "\n",
        "print(\"roc_auc_score\")\n",
        "print(metrics.roc_auc_score(y_test, test_class_preds))"
      ],
      "execution_count": null,
      "outputs": []
    },
    {
      "cell_type": "markdown",
      "source": [
        "##### Which hyperparameter optimization technique have you used and why?"
      ],
      "metadata": {
        "id": "_-qAgymDpx6N"
      }
    },
    {
      "cell_type": "markdown",
      "source": [
        "GridSearchCV which uses the Grid Search technique for finding the optimal hyperparameters to increase the model performance.\n",
        "\n",
        "our goal should be to find the best hyperparameters values to get the perfect prediction results from our model.  But the question arises, how to find these best sets of hyperparameters? One can try the Manual Search method, by using the hit and trial process and can find the best hyperparameters which would take huge time to build a single model.\n",
        "\n",
        "For this reason, methods like Random Search, GridSearch were introduced.\n",
        "Grid Search uses a different combination of all the specified hyperparameters and their values and calculates the performance for each combination and selects the best value for the hyperparameters. This makes the processing time-consuming and expensive based on the number of hyperparameters involved.\n",
        "\n",
        "In GridSearchCV, along with Grid Search, cross-validation is also performed. Cross-Validation is used while training the model.\n",
        "\n",
        "That's why I have used GridsearCV method for hyperparameter optimization."
      ],
      "metadata": {
        "id": "lQMffxkwpx6N"
      }
    },
    {
      "cell_type": "markdown",
      "source": [
        "### 2. Which ML model did you choose from the above created models as your final prediction model and why?"
      ],
      "metadata": {
        "id": "cBFFvTBNJzUa"
      }
    },
    {
      "cell_type": "markdown",
      "source": [
        "I have choosen XGBoost model which is hyperparameter optimized. first of all I need accuracy for the churn prediction and time isn't a constrain here, beacuse the data is not lke swiggy or ola which booking needs to be faster. Thus, for greater accuracy we used kernel SVM, Random Forest, XgBoost kind of ensembel r=techniques. So, I tried both Random Forest and XGBoost. Here is their ealuation metrics and I would like to compare."
      ],
      "metadata": {
        "id": "XdGeRB5W5hf_"
      }
    },
    {
      "cell_type": "markdown",
      "source": [
        "https://medium.com/almabetter/data-preprocessing-ea09fac6a7f7"
      ],
      "metadata": {
        "id": "XYNmUe2H_pPX"
      }
    },
    {
      "cell_type": "markdown",
      "source": [
        "# **Conclusion**"
      ],
      "metadata": {
        "id": "gCX9965dhzqZ"
      }
    },
    {
      "cell_type": "markdown",
      "source": [
        "Customer referrals are a powerful way to acquire new customers and build brand loyalty. Here are some strategies to improve customer referrals in an airline:\n",
        "\n",
        "1. Offer a compelling referral program:\n",
        "Simple and rewarding: Make the referral process easy and the rewards attractive.\n",
        "Multiple rewards: Offer a variety of rewards, such as flight discounts, upgrades, or free checked bags, to cater to different preferences.\n",
        "Track referrals: Use a referral tracking system to ensure that rewards are given out accurately.\n",
        "2. Provide exceptional customer experiences:\n",
        "Consistent quality: Ensure that customers receive consistent, high-quality service across all touchpoints, from booking to arrival.\n",
        "Personalized service: Tailor the experience to individual needs and preferences.\n",
        "Address complaints promptly: Resolve issues quickly and efficiently to maintain customer satisfaction.\n",
        "3. Leverage social media:\n",
        "Encourage sharing: Create shareable content, such as stunning destination photos or behind-the-scenes glimpses.\n",
        "Engage with customers: Respond to comments and questions promptly and thoughtfully.\n",
        "Run social media contests: Offer rewards for referrals or shares.\n",
        "4. Partner with complementary businesses:\n",
        "Co-branded promotions: Collaborate with hotels, car rental companies, or travel agencies to offer joint promotions.\n",
        "Shared referral programs: Create a referral program that benefits both businesses.\n",
        "5. Provide excellent customer support:\n",
        "24/7 availability: Ensure that customer support is available around the clock.\n",
        "Multiple channels: Offer support through phone, email, chat, and social media.\n",
        "Empower agents: Give customer support agents the authority to resolve issues quickly and efficiently.\n",
        "6. Recognize and reward loyal customers:\n",
        "Loyalty programs: Offer tiered rewards for frequent flyers.\n",
        "Personalized recognition: Acknowledge and thank loyal customers for their business.\n",
        "Exclusive perks: Provide exclusive benefits, such as priority boarding or access to lounges.\n",
        "By implementing these strategies, airlines can create a positive and memorable experience for their customers, encouraging them to refer their friends and family.\n",
        "\n",
        "\n",
        "Use XGBoostClassifier model that is generated above to predict Customer Referral chances."
      ],
      "metadata": {
        "id": "tyhUJT9u6Bb5"
      }
    },
    {
      "cell_type": "markdown",
      "source": [
        "### ***Hurrah! You have successfully completed your Machine Learning Capstone Project !!!***"
      ],
      "metadata": {
        "id": "gIfDvo9L0UH2"
      }
    }
  ]
}